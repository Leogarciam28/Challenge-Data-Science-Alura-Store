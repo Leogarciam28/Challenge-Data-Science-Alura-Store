{
  "nbformat": 4,
  "nbformat_minor": 0,
  "metadata": {
    "colab": {
      "provenance": []
    },
    "kernelspec": {
      "name": "python3",
      "display_name": "Python 3"
    },
    "language_info": {
      "name": "python"
    }
  },
  "cells": [
    {
      "cell_type": "markdown",
      "source": [
        "### Importación de datos\n",
        "\n"
      ],
      "metadata": {
        "id": "RhEdWd9YUR6H"
      }
    },
    {
      "cell_type": "code",
      "execution_count": 1,
      "metadata": {
        "colab": {
          "base_uri": "https://localhost:8080/",
          "height": 293
        },
        "id": "T3EvaeQ_INIL",
        "outputId": "2843d2db-cad1-4015-ddca-535c476baf97"
      },
      "outputs": [
        {
          "output_type": "execute_result",
          "data": {
            "text/plain": [
              "            Producto Categoría del Producto    Precio  Costo de envío  \\\n",
              "0  Asistente virtual           Electrónicos  164300.0          6900.0   \n",
              "1    Mesa de comedor                Muebles  192300.0          8400.0   \n",
              "2      Juego de mesa               Juguetes  209600.0         15900.0   \n",
              "3         Microondas      Electrodomésticos  757500.0         41000.0   \n",
              "4   Silla de oficina                Muebles  335200.0         20200.0   \n",
              "\n",
              "  Fecha de Compra         Vendedor Lugar de Compra  Calificación  \\\n",
              "0      16/01/2021      Pedro Gomez          Bogotá             4   \n",
              "1      18/05/2022  Beatriz Morales        Medellín             1   \n",
              "2      15/03/2021   Juan Fernandez       Cartagena             1   \n",
              "3      03/05/2022   Juan Fernandez            Cali             4   \n",
              "4      07/11/2020    Maria Alfonso        Medellín             5   \n",
              "\n",
              "       Método de pago  Cantidad de cuotas       lat       lon  \n",
              "0  Tarjeta de crédito                   8   4.60971 -74.08175  \n",
              "1  Tarjeta de crédito                   4   6.25184 -75.56359  \n",
              "2  Tarjeta de crédito                   1  10.39972 -75.51444  \n",
              "3               Nequi                   1   3.43722 -76.52250  \n",
              "4               Nequi                   1   6.25184 -75.56359  "
            ],
            "text/html": [
              "\n",
              "  <div id=\"df-4ec518e7-0457-4747-8d9c-3ae9e23b883c\" class=\"colab-df-container\">\n",
              "    <div>\n",
              "<style scoped>\n",
              "    .dataframe tbody tr th:only-of-type {\n",
              "        vertical-align: middle;\n",
              "    }\n",
              "\n",
              "    .dataframe tbody tr th {\n",
              "        vertical-align: top;\n",
              "    }\n",
              "\n",
              "    .dataframe thead th {\n",
              "        text-align: right;\n",
              "    }\n",
              "</style>\n",
              "<table border=\"1\" class=\"dataframe\">\n",
              "  <thead>\n",
              "    <tr style=\"text-align: right;\">\n",
              "      <th></th>\n",
              "      <th>Producto</th>\n",
              "      <th>Categoría del Producto</th>\n",
              "      <th>Precio</th>\n",
              "      <th>Costo de envío</th>\n",
              "      <th>Fecha de Compra</th>\n",
              "      <th>Vendedor</th>\n",
              "      <th>Lugar de Compra</th>\n",
              "      <th>Calificación</th>\n",
              "      <th>Método de pago</th>\n",
              "      <th>Cantidad de cuotas</th>\n",
              "      <th>lat</th>\n",
              "      <th>lon</th>\n",
              "    </tr>\n",
              "  </thead>\n",
              "  <tbody>\n",
              "    <tr>\n",
              "      <th>0</th>\n",
              "      <td>Asistente virtual</td>\n",
              "      <td>Electrónicos</td>\n",
              "      <td>164300.0</td>\n",
              "      <td>6900.0</td>\n",
              "      <td>16/01/2021</td>\n",
              "      <td>Pedro Gomez</td>\n",
              "      <td>Bogotá</td>\n",
              "      <td>4</td>\n",
              "      <td>Tarjeta de crédito</td>\n",
              "      <td>8</td>\n",
              "      <td>4.60971</td>\n",
              "      <td>-74.08175</td>\n",
              "    </tr>\n",
              "    <tr>\n",
              "      <th>1</th>\n",
              "      <td>Mesa de comedor</td>\n",
              "      <td>Muebles</td>\n",
              "      <td>192300.0</td>\n",
              "      <td>8400.0</td>\n",
              "      <td>18/05/2022</td>\n",
              "      <td>Beatriz Morales</td>\n",
              "      <td>Medellín</td>\n",
              "      <td>1</td>\n",
              "      <td>Tarjeta de crédito</td>\n",
              "      <td>4</td>\n",
              "      <td>6.25184</td>\n",
              "      <td>-75.56359</td>\n",
              "    </tr>\n",
              "    <tr>\n",
              "      <th>2</th>\n",
              "      <td>Juego de mesa</td>\n",
              "      <td>Juguetes</td>\n",
              "      <td>209600.0</td>\n",
              "      <td>15900.0</td>\n",
              "      <td>15/03/2021</td>\n",
              "      <td>Juan Fernandez</td>\n",
              "      <td>Cartagena</td>\n",
              "      <td>1</td>\n",
              "      <td>Tarjeta de crédito</td>\n",
              "      <td>1</td>\n",
              "      <td>10.39972</td>\n",
              "      <td>-75.51444</td>\n",
              "    </tr>\n",
              "    <tr>\n",
              "      <th>3</th>\n",
              "      <td>Microondas</td>\n",
              "      <td>Electrodomésticos</td>\n",
              "      <td>757500.0</td>\n",
              "      <td>41000.0</td>\n",
              "      <td>03/05/2022</td>\n",
              "      <td>Juan Fernandez</td>\n",
              "      <td>Cali</td>\n",
              "      <td>4</td>\n",
              "      <td>Nequi</td>\n",
              "      <td>1</td>\n",
              "      <td>3.43722</td>\n",
              "      <td>-76.52250</td>\n",
              "    </tr>\n",
              "    <tr>\n",
              "      <th>4</th>\n",
              "      <td>Silla de oficina</td>\n",
              "      <td>Muebles</td>\n",
              "      <td>335200.0</td>\n",
              "      <td>20200.0</td>\n",
              "      <td>07/11/2020</td>\n",
              "      <td>Maria Alfonso</td>\n",
              "      <td>Medellín</td>\n",
              "      <td>5</td>\n",
              "      <td>Nequi</td>\n",
              "      <td>1</td>\n",
              "      <td>6.25184</td>\n",
              "      <td>-75.56359</td>\n",
              "    </tr>\n",
              "  </tbody>\n",
              "</table>\n",
              "</div>\n",
              "    <div class=\"colab-df-buttons\">\n",
              "\n",
              "  <div class=\"colab-df-container\">\n",
              "    <button class=\"colab-df-convert\" onclick=\"convertToInteractive('df-4ec518e7-0457-4747-8d9c-3ae9e23b883c')\"\n",
              "            title=\"Convert this dataframe to an interactive table.\"\n",
              "            style=\"display:none;\">\n",
              "\n",
              "  <svg xmlns=\"http://www.w3.org/2000/svg\" height=\"24px\" viewBox=\"0 -960 960 960\">\n",
              "    <path d=\"M120-120v-720h720v720H120Zm60-500h600v-160H180v160Zm220 220h160v-160H400v160Zm0 220h160v-160H400v160ZM180-400h160v-160H180v160Zm440 0h160v-160H620v160ZM180-180h160v-160H180v160Zm440 0h160v-160H620v160Z\"/>\n",
              "  </svg>\n",
              "    </button>\n",
              "\n",
              "  <style>\n",
              "    .colab-df-container {\n",
              "      display:flex;\n",
              "      gap: 12px;\n",
              "    }\n",
              "\n",
              "    .colab-df-convert {\n",
              "      background-color: #E8F0FE;\n",
              "      border: none;\n",
              "      border-radius: 50%;\n",
              "      cursor: pointer;\n",
              "      display: none;\n",
              "      fill: #1967D2;\n",
              "      height: 32px;\n",
              "      padding: 0 0 0 0;\n",
              "      width: 32px;\n",
              "    }\n",
              "\n",
              "    .colab-df-convert:hover {\n",
              "      background-color: #E2EBFA;\n",
              "      box-shadow: 0px 1px 2px rgba(60, 64, 67, 0.3), 0px 1px 3px 1px rgba(60, 64, 67, 0.15);\n",
              "      fill: #174EA6;\n",
              "    }\n",
              "\n",
              "    .colab-df-buttons div {\n",
              "      margin-bottom: 4px;\n",
              "    }\n",
              "\n",
              "    [theme=dark] .colab-df-convert {\n",
              "      background-color: #3B4455;\n",
              "      fill: #D2E3FC;\n",
              "    }\n",
              "\n",
              "    [theme=dark] .colab-df-convert:hover {\n",
              "      background-color: #434B5C;\n",
              "      box-shadow: 0px 1px 3px 1px rgba(0, 0, 0, 0.15);\n",
              "      filter: drop-shadow(0px 1px 2px rgba(0, 0, 0, 0.3));\n",
              "      fill: #FFFFFF;\n",
              "    }\n",
              "  </style>\n",
              "\n",
              "    <script>\n",
              "      const buttonEl =\n",
              "        document.querySelector('#df-4ec518e7-0457-4747-8d9c-3ae9e23b883c button.colab-df-convert');\n",
              "      buttonEl.style.display =\n",
              "        google.colab.kernel.accessAllowed ? 'block' : 'none';\n",
              "\n",
              "      async function convertToInteractive(key) {\n",
              "        const element = document.querySelector('#df-4ec518e7-0457-4747-8d9c-3ae9e23b883c');\n",
              "        const dataTable =\n",
              "          await google.colab.kernel.invokeFunction('convertToInteractive',\n",
              "                                                    [key], {});\n",
              "        if (!dataTable) return;\n",
              "\n",
              "        const docLinkHtml = 'Like what you see? Visit the ' +\n",
              "          '<a target=\"_blank\" href=https://colab.research.google.com/notebooks/data_table.ipynb>data table notebook</a>'\n",
              "          + ' to learn more about interactive tables.';\n",
              "        element.innerHTML = '';\n",
              "        dataTable['output_type'] = 'display_data';\n",
              "        await google.colab.output.renderOutput(dataTable, element);\n",
              "        const docLink = document.createElement('div');\n",
              "        docLink.innerHTML = docLinkHtml;\n",
              "        element.appendChild(docLink);\n",
              "      }\n",
              "    </script>\n",
              "  </div>\n",
              "\n",
              "\n",
              "    <div id=\"df-ca42d5ed-0714-4eda-b58a-75659071ef7b\">\n",
              "      <button class=\"colab-df-quickchart\" onclick=\"quickchart('df-ca42d5ed-0714-4eda-b58a-75659071ef7b')\"\n",
              "                title=\"Suggest charts\"\n",
              "                style=\"display:none;\">\n",
              "\n",
              "<svg xmlns=\"http://www.w3.org/2000/svg\" height=\"24px\"viewBox=\"0 0 24 24\"\n",
              "     width=\"24px\">\n",
              "    <g>\n",
              "        <path d=\"M19 3H5c-1.1 0-2 .9-2 2v14c0 1.1.9 2 2 2h14c1.1 0 2-.9 2-2V5c0-1.1-.9-2-2-2zM9 17H7v-7h2v7zm4 0h-2V7h2v10zm4 0h-2v-4h2v4z\"/>\n",
              "    </g>\n",
              "</svg>\n",
              "      </button>\n",
              "\n",
              "<style>\n",
              "  .colab-df-quickchart {\n",
              "      --bg-color: #E8F0FE;\n",
              "      --fill-color: #1967D2;\n",
              "      --hover-bg-color: #E2EBFA;\n",
              "      --hover-fill-color: #174EA6;\n",
              "      --disabled-fill-color: #AAA;\n",
              "      --disabled-bg-color: #DDD;\n",
              "  }\n",
              "\n",
              "  [theme=dark] .colab-df-quickchart {\n",
              "      --bg-color: #3B4455;\n",
              "      --fill-color: #D2E3FC;\n",
              "      --hover-bg-color: #434B5C;\n",
              "      --hover-fill-color: #FFFFFF;\n",
              "      --disabled-bg-color: #3B4455;\n",
              "      --disabled-fill-color: #666;\n",
              "  }\n",
              "\n",
              "  .colab-df-quickchart {\n",
              "    background-color: var(--bg-color);\n",
              "    border: none;\n",
              "    border-radius: 50%;\n",
              "    cursor: pointer;\n",
              "    display: none;\n",
              "    fill: var(--fill-color);\n",
              "    height: 32px;\n",
              "    padding: 0;\n",
              "    width: 32px;\n",
              "  }\n",
              "\n",
              "  .colab-df-quickchart:hover {\n",
              "    background-color: var(--hover-bg-color);\n",
              "    box-shadow: 0 1px 2px rgba(60, 64, 67, 0.3), 0 1px 3px 1px rgba(60, 64, 67, 0.15);\n",
              "    fill: var(--button-hover-fill-color);\n",
              "  }\n",
              "\n",
              "  .colab-df-quickchart-complete:disabled,\n",
              "  .colab-df-quickchart-complete:disabled:hover {\n",
              "    background-color: var(--disabled-bg-color);\n",
              "    fill: var(--disabled-fill-color);\n",
              "    box-shadow: none;\n",
              "  }\n",
              "\n",
              "  .colab-df-spinner {\n",
              "    border: 2px solid var(--fill-color);\n",
              "    border-color: transparent;\n",
              "    border-bottom-color: var(--fill-color);\n",
              "    animation:\n",
              "      spin 1s steps(1) infinite;\n",
              "  }\n",
              "\n",
              "  @keyframes spin {\n",
              "    0% {\n",
              "      border-color: transparent;\n",
              "      border-bottom-color: var(--fill-color);\n",
              "      border-left-color: var(--fill-color);\n",
              "    }\n",
              "    20% {\n",
              "      border-color: transparent;\n",
              "      border-left-color: var(--fill-color);\n",
              "      border-top-color: var(--fill-color);\n",
              "    }\n",
              "    30% {\n",
              "      border-color: transparent;\n",
              "      border-left-color: var(--fill-color);\n",
              "      border-top-color: var(--fill-color);\n",
              "      border-right-color: var(--fill-color);\n",
              "    }\n",
              "    40% {\n",
              "      border-color: transparent;\n",
              "      border-right-color: var(--fill-color);\n",
              "      border-top-color: var(--fill-color);\n",
              "    }\n",
              "    60% {\n",
              "      border-color: transparent;\n",
              "      border-right-color: var(--fill-color);\n",
              "    }\n",
              "    80% {\n",
              "      border-color: transparent;\n",
              "      border-right-color: var(--fill-color);\n",
              "      border-bottom-color: var(--fill-color);\n",
              "    }\n",
              "    90% {\n",
              "      border-color: transparent;\n",
              "      border-bottom-color: var(--fill-color);\n",
              "    }\n",
              "  }\n",
              "</style>\n",
              "\n",
              "      <script>\n",
              "        async function quickchart(key) {\n",
              "          const quickchartButtonEl =\n",
              "            document.querySelector('#' + key + ' button');\n",
              "          quickchartButtonEl.disabled = true;  // To prevent multiple clicks.\n",
              "          quickchartButtonEl.classList.add('colab-df-spinner');\n",
              "          try {\n",
              "            const charts = await google.colab.kernel.invokeFunction(\n",
              "                'suggestCharts', [key], {});\n",
              "          } catch (error) {\n",
              "            console.error('Error during call to suggestCharts:', error);\n",
              "          }\n",
              "          quickchartButtonEl.classList.remove('colab-df-spinner');\n",
              "          quickchartButtonEl.classList.add('colab-df-quickchart-complete');\n",
              "        }\n",
              "        (() => {\n",
              "          let quickchartButtonEl =\n",
              "            document.querySelector('#df-ca42d5ed-0714-4eda-b58a-75659071ef7b button');\n",
              "          quickchartButtonEl.style.display =\n",
              "            google.colab.kernel.accessAllowed ? 'block' : 'none';\n",
              "        })();\n",
              "      </script>\n",
              "    </div>\n",
              "\n",
              "    </div>\n",
              "  </div>\n"
            ],
            "application/vnd.google.colaboratory.intrinsic+json": {
              "type": "dataframe",
              "variable_name": "tienda",
              "summary": "{\n  \"name\": \"tienda\",\n  \"rows\": 2359,\n  \"fields\": [\n    {\n      \"column\": \"Producto\",\n      \"properties\": {\n        \"dtype\": \"category\",\n        \"num_unique_values\": 51,\n        \"samples\": [\n          \"Guitarra ac\\u00fastica\",\n          \"Bal\\u00f3n de baloncesto\",\n          \"Smartwatch\"\n        ],\n        \"semantic_type\": \"\",\n        \"description\": \"\"\n      }\n    },\n    {\n      \"column\": \"Categor\\u00eda del Producto\",\n      \"properties\": {\n        \"dtype\": \"category\",\n        \"num_unique_values\": 8,\n        \"samples\": [\n          \"Muebles\",\n          \"Deportes y diversi\\u00f3n\",\n          \"Electr\\u00f3nicos\"\n        ],\n        \"semantic_type\": \"\",\n        \"description\": \"\"\n      }\n    },\n    {\n      \"column\": \"Precio\",\n      \"properties\": {\n        \"dtype\": \"number\",\n        \"std\": 614686.7653873172,\n        \"min\": 7600.0,\n        \"max\": 2977000.0,\n        \"num_unique_values\": 1937,\n        \"samples\": [\n          2499400.0,\n          14800.0,\n          80500.0\n        ],\n        \"semantic_type\": \"\",\n        \"description\": \"\"\n      }\n    },\n    {\n      \"column\": \"Costo de env\\u00edo\",\n      \"properties\": {\n        \"dtype\": \"number\",\n        \"std\": 32860.0017825605,\n        \"min\": 0.0,\n        \"max\": 160800.0,\n        \"num_unique_values\": 753,\n        \"samples\": [\n          117800.0,\n          54700.0,\n          45600.0\n        ],\n        \"semantic_type\": \"\",\n        \"description\": \"\"\n      }\n    },\n    {\n      \"column\": \"Fecha de Compra\",\n      \"properties\": {\n        \"dtype\": \"object\",\n        \"num_unique_values\": 1018,\n        \"samples\": [\n          \"15/09/2022\",\n          \"03/06/2020\",\n          \"06/11/2021\"\n        ],\n        \"semantic_type\": \"\",\n        \"description\": \"\"\n      }\n    },\n    {\n      \"column\": \"Vendedor\",\n      \"properties\": {\n        \"dtype\": \"category\",\n        \"num_unique_values\": 14,\n        \"samples\": [\n          \"Juliana Costa\",\n          \"Mariana Herrera\",\n          \"Pedro Gomez\"\n        ],\n        \"semantic_type\": \"\",\n        \"description\": \"\"\n      }\n    },\n    {\n      \"column\": \"Lugar de Compra\",\n      \"properties\": {\n        \"dtype\": \"category\",\n        \"num_unique_values\": 19,\n        \"samples\": [\n          \"Bogot\\u00e1\",\n          \"Pereira\",\n          \"Neiva\"\n        ],\n        \"semantic_type\": \"\",\n        \"description\": \"\"\n      }\n    },\n    {\n      \"column\": \"Calificaci\\u00f3n\",\n      \"properties\": {\n        \"dtype\": \"number\",\n        \"std\": 1,\n        \"min\": 1,\n        \"max\": 5,\n        \"num_unique_values\": 5,\n        \"samples\": [\n          1,\n          2,\n          5\n        ],\n        \"semantic_type\": \"\",\n        \"description\": \"\"\n      }\n    },\n    {\n      \"column\": \"M\\u00e9todo de pago\",\n      \"properties\": {\n        \"dtype\": \"category\",\n        \"num_unique_values\": 4,\n        \"samples\": [\n          \"Nequi\",\n          \"Tarjeta de d\\u00e9bito\",\n          \"Tarjeta de cr\\u00e9dito\"\n        ],\n        \"semantic_type\": \"\",\n        \"description\": \"\"\n      }\n    },\n    {\n      \"column\": \"Cantidad de cuotas\",\n      \"properties\": {\n        \"dtype\": \"number\",\n        \"std\": 2,\n        \"min\": 1,\n        \"max\": 24,\n        \"num_unique_values\": 15,\n        \"samples\": [\n          7,\n          14,\n          8\n        ],\n        \"semantic_type\": \"\",\n        \"description\": \"\"\n      }\n    },\n    {\n      \"column\": \"lat\",\n      \"properties\": {\n        \"dtype\": \"number\",\n        \"std\": 2.2874452492678627,\n        \"min\": -4.21528,\n        \"max\": 11.54444,\n        \"num_unique_values\": 19,\n        \"samples\": [\n          4.60971,\n          4.81333,\n          2.9273\n        ],\n        \"semantic_type\": \"\",\n        \"description\": \"\"\n      }\n    },\n    {\n      \"column\": \"lon\",\n      \"properties\": {\n        \"dtype\": \"number\",\n        \"std\": 1.2178272727088486,\n        \"min\": -77.28111,\n        \"max\": -67.9239,\n        \"num_unique_values\": 19,\n        \"samples\": [\n          -74.08175,\n          -75.69611,\n          -75.28189\n        ],\n        \"semantic_type\": \"\",\n        \"description\": \"\"\n      }\n    }\n  ]\n}"
            }
          },
          "metadata": {},
          "execution_count": 1
        }
      ],
      "source": [
        "import pandas as pd\n",
        "\n",
        "url = \"https://raw.githubusercontent.com/alura-es-cursos/challenge1-data-science-latam/refs/heads/main/base-de-datos-challenge1-latam/tienda_1%20.csv\"\n",
        "url2 = \"https://raw.githubusercontent.com/alura-es-cursos/challenge1-data-science-latam/refs/heads/main/base-de-datos-challenge1-latam/tienda_2.csv\"\n",
        "url3 = \"https://raw.githubusercontent.com/alura-es-cursos/challenge1-data-science-latam/refs/heads/main/base-de-datos-challenge1-latam/tienda_3.csv\"\n",
        "url4 = \"https://raw.githubusercontent.com/alura-es-cursos/challenge1-data-science-latam/refs/heads/main/base-de-datos-challenge1-latam/tienda_4.csv\"\n",
        "\n",
        "tienda = pd.read_csv(url)\n",
        "tienda2 = pd.read_csv(url2)\n",
        "tienda3 = pd.read_csv(url3)\n",
        "tienda4 = pd.read_csv(url4)\n",
        "\n",
        "tienda.head()"
      ]
    },
    {
      "cell_type": "markdown",
      "source": [
        "#1. Análisis de facturación\n",
        "\n"
      ],
      "metadata": {
        "id": "X62IW3KFUIYm"
      }
    },
    {
      "cell_type": "code",
      "source": [
        "# Convertir cada DataFrame en lista de diccionarios\n",
        "ventas = tienda.to_dict('records')\n",
        "ventas2 = tienda2.to_dict('records')\n",
        "ventas3 = tienda3.to_dict('records')\n",
        "ventas4 = tienda4.to_dict('records')\n",
        "\n",
        "# Calcular ingreso total\n",
        "def ingreso_total(ventas):\n",
        "    total = 0\n",
        "    for venta in ventas:\n",
        "        precio = venta['Precio']\n",
        "        total += precio\n",
        "    return total"
      ],
      "metadata": {
        "id": "xykobSftV64I"
      },
      "execution_count": 2,
      "outputs": []
    },
    {
      "cell_type": "code",
      "source": [
        "# Ingresos de cada tienda\n",
        "ingresos = [\n",
        "            ('Tienda 1', ingreso_total(ventas)),\n",
        "            ('Tienda 2',ingreso_total(ventas2)),\n",
        "            ('Tienda 3',ingreso_total(ventas3)),\n",
        "            ('Tienda 4',ingreso_total(ventas4))\n",
        "            ]\n",
        "for tienda, ingreso in ingresos:\n",
        "  print(f'El ingreso de la {tienda} es: {ingreso}')"
      ],
      "metadata": {
        "id": "KDyr8E71V3m-",
        "outputId": "1fbe1506-876c-45e0-9268-503d0bbe1755",
        "colab": {
          "base_uri": "https://localhost:8080/"
        }
      },
      "execution_count": 3,
      "outputs": [
        {
          "output_type": "stream",
          "name": "stdout",
          "text": [
            "El ingreso de la Tienda 1 es: 1150880400.0\n",
            "El ingreso de la Tienda 2 es: 1116343500.0\n",
            "El ingreso de la Tienda 3 es: 1098019600.0\n",
            "El ingreso de la Tienda 4 es: 1038375700.0\n"
          ]
        }
      ]
    },
    {
      "cell_type": "markdown",
      "source": [
        "# 2. Ventas por categoría"
      ],
      "metadata": {
        "id": "2V_vcAPzWZmR"
      }
    },
    {
      "cell_type": "code",
      "source": [
        "# Calcular ventas por categoría\n",
        "def ventas_por_categoria(ventas):\n",
        "    categorias = {}\n",
        "    for venta in ventas:\n",
        "        categoria = venta['Categoría del Producto']\n",
        "        if categoria in categorias:\n",
        "            categorias[categoria] += 1\n",
        "        else:\n",
        "            categorias[categoria] = 1\n",
        "    return categorias\n",
        "\n",
        "# Ventas por categoría\n",
        "categorias = [ventas_por_categoria(ventas), ventas_por_categoria(ventas2), ventas_por_categoria(ventas3), ventas_por_categoria(ventas4)]"
      ],
      "metadata": {
        "id": "A34YupIuYhfF"
      },
      "execution_count": 4,
      "outputs": []
    },
    {
      "cell_type": "code",
      "source": [
        "# Categorías más populares\n",
        "def top_categorias(categorias, tienda):\n",
        "    print(f\"\\n Categorías más populares en {tienda}:\")\n",
        "    ordenadas = sorted(categorias.items(), key=lambda x: x[1], reverse=True)\n",
        "    for categoria, cantidad in ordenadas:\n",
        "        print(f\"{categoria}: {cantidad} ventas\")\n",
        "\n",
        "tiendas_categorias = [('Tienda 1', categorias[0]), ('Tienda 2', categorias[1]), ('Tienda 3', categorias[2]), ('Tienda 4', categorias[3])]\n",
        "\n",
        "for tienda, categorias in tiendas_categorias:\n",
        "    top_categorias(categorias, tienda)"
      ],
      "metadata": {
        "id": "yZR6cOjXYSk1",
        "outputId": "a502da5c-7d68-4376-fd3f-8092982361f8",
        "colab": {
          "base_uri": "https://localhost:8080/"
        }
      },
      "execution_count": 5,
      "outputs": [
        {
          "output_type": "stream",
          "name": "stdout",
          "text": [
            "\n",
            " Categorías más populares en Tienda 1:\n",
            "Muebles: 465 ventas\n",
            "Electrónicos: 448 ventas\n",
            "Juguetes: 324 ventas\n",
            "Electrodomésticos: 312 ventas\n",
            "Deportes y diversión: 284 ventas\n",
            "Instrumentos musicales: 182 ventas\n",
            "Libros: 173 ventas\n",
            "Artículos para el hogar: 171 ventas\n",
            "\n",
            " Categorías más populares en Tienda 2:\n",
            "Muebles: 442 ventas\n",
            "Electrónicos: 422 ventas\n",
            "Juguetes: 313 ventas\n",
            "Electrodomésticos: 305 ventas\n",
            "Deportes y diversión: 275 ventas\n",
            "Instrumentos musicales: 224 ventas\n",
            "Libros: 197 ventas\n",
            "Artículos para el hogar: 181 ventas\n",
            "\n",
            " Categorías más populares en Tienda 3:\n",
            "Muebles: 499 ventas\n",
            "Electrónicos: 451 ventas\n",
            "Juguetes: 315 ventas\n",
            "Electrodomésticos: 278 ventas\n",
            "Deportes y diversión: 277 ventas\n",
            "Libros: 185 ventas\n",
            "Instrumentos musicales: 177 ventas\n",
            "Artículos para el hogar: 177 ventas\n",
            "\n",
            " Categorías más populares en Tienda 4:\n",
            "Muebles: 480 ventas\n",
            "Electrónicos: 451 ventas\n",
            "Juguetes: 338 ventas\n",
            "Deportes y diversión: 277 ventas\n",
            "Electrodomésticos: 254 ventas\n",
            "Artículos para el hogar: 201 ventas\n",
            "Libros: 187 ventas\n",
            "Instrumentos musicales: 170 ventas\n"
          ]
        }
      ]
    },
    {
      "cell_type": "markdown",
      "source": [
        "# 3. Calificación promedio de la tienda\n"
      ],
      "metadata": {
        "id": "Rq6tU_xSY3jk"
      }
    },
    {
      "cell_type": "code",
      "source": [
        "# Cálculo de la calificación promedio de la tienda\n",
        "def promedio_calificacion(ventas):\n",
        "    total = 0\n",
        "    cantidad = 0\n",
        "    for venta in ventas:\n",
        "        calificacion = venta['Calificación']\n",
        "        total += calificacion\n",
        "        cantidad += 1\n",
        "    return total / cantidad if cantidad > 0 else 0"
      ],
      "metadata": {
        "id": "bh3jjjJwY5MU"
      },
      "execution_count": 6,
      "outputs": []
    },
    {
      "cell_type": "code",
      "source": [
        "# Calcular promedio por tienda\n",
        "promedios = [\n",
        "    (\"Tienda 1\", promedio_calificacion(ventas)),\n",
        "    (\"Tienda 2\", promedio_calificacion(ventas2)),\n",
        "    (\"Tienda 3\", promedio_calificacion(ventas3)),\n",
        "    (\"Tienda 4\", promedio_calificacion(ventas4))\n",
        "]\n",
        "\n",
        "# Mostrar resultados\n",
        "for tienda, promedio in promedios:\n",
        "    print(f\"{tienda}: {promedio:.2f} estrellas promedio\")"
      ],
      "metadata": {
        "id": "I0KkjPoTY88F",
        "outputId": "efa8fe69-03b3-4c97-8244-cfa2a8d91d1a",
        "colab": {
          "base_uri": "https://localhost:8080/"
        }
      },
      "execution_count": 7,
      "outputs": [
        {
          "output_type": "stream",
          "name": "stdout",
          "text": [
            "Tienda 1: 3.98 estrellas promedio\n",
            "Tienda 2: 4.04 estrellas promedio\n",
            "Tienda 3: 4.05 estrellas promedio\n",
            "Tienda 4: 4.00 estrellas promedio\n"
          ]
        }
      ]
    },
    {
      "cell_type": "markdown",
      "source": [
        "# 4. Productos más y menos vendidos"
      ],
      "metadata": {
        "id": "DmNp1KPBZCm-"
      }
    },
    {
      "cell_type": "code",
      "source": [
        "# Contar ventas por productos\n",
        "def ventas_por_producto(ventas):\n",
        "    productos = {}\n",
        "    for venta in ventas:\n",
        "        producto = venta['Producto']\n",
        "        if producto in productos:\n",
        "            productos[producto] += 1\n",
        "        else:\n",
        "            productos[producto] = 1\n",
        "    return productos\n",
        "\n",
        "# Lista de tiendas con sus productos\n",
        "tiendas_productos = [\n",
        "    (\"Tienda 1\", ventas_por_producto(ventas)),\n",
        "    (\"Tienda 2\", ventas_por_producto(ventas2)),\n",
        "    (\"Tienda 3\", ventas_por_producto(ventas3)),\n",
        "    (\"Tienda 4\", ventas_por_producto(ventas4))\n",
        "]"
      ],
      "metadata": {
        "id": "qoyjqijQZHfF"
      },
      "execution_count": 8,
      "outputs": []
    },
    {
      "cell_type": "code",
      "source": [
        "# Mostrar el producto más y menos vendido por tienda\n",
        "for tienda, productos in tiendas_productos:\n",
        "    print(f'\\n {tienda}')\n",
        "    ordenados = sorted(productos.items(), key=lambda x: x[1], reverse=True)\n",
        "\n",
        "    mas_vendido = ordenados[0]\n",
        "    menos_vendido = ordenados[-1]\n",
        "\n",
        "    print(f' Más vendido: {mas_vendido[0]} ({mas_vendido[1]} ventas)')\n",
        "    print(f' Menos vendido: {menos_vendido[0]} ({menos_vendido[1]} ventas)')"
      ],
      "metadata": {
        "id": "0Sw3sd4IZIGW",
        "outputId": "9886381b-9b81-4a34-a7ac-1d2be29484ae",
        "colab": {
          "base_uri": "https://localhost:8080/"
        }
      },
      "execution_count": 9,
      "outputs": [
        {
          "output_type": "stream",
          "name": "stdout",
          "text": [
            "\n",
            " Tienda 1\n",
            " Más vendido: Microondas (60 ventas)\n",
            " Menos vendido: Celular ABXY (33 ventas)\n",
            "\n",
            " Tienda 2\n",
            " Más vendido: Iniciando en programación (65 ventas)\n",
            " Menos vendido: Juego de mesa (32 ventas)\n",
            "\n",
            " Tienda 3\n",
            " Más vendido: Kit de bancas (57 ventas)\n",
            " Menos vendido: Bloques de construcción (35 ventas)\n",
            "\n",
            " Tienda 4\n",
            " Más vendido: Cama box (62 ventas)\n",
            " Menos vendido: Guitarra eléctrica (33 ventas)\n"
          ]
        }
      ]
    },
    {
      "cell_type": "markdown",
      "source": [
        "# 5. Envío promedio por tienda"
      ],
      "metadata": {
        "id": "Fl0cGi3bZKqU"
      }
    },
    {
      "cell_type": "code",
      "source": [
        "# Cálculo del envio promedio por tienda\n",
        "def costo_envio_promedio(ventas):\n",
        "    total = 0\n",
        "    cantidad = 0\n",
        "    for venta in ventas:\n",
        "        costo_envio = venta['Costo de envío']\n",
        "        total += costo_envio\n",
        "        cantidad += 1\n",
        "    return total / cantidad if cantidad > 0 else 0"
      ],
      "metadata": {
        "id": "S2JeaCykZNy9"
      },
      "execution_count": 10,
      "outputs": []
    },
    {
      "cell_type": "code",
      "source": [
        "# Calcular costo de envio promedio por tienda\n",
        "costo_promedios = [\n",
        "    (\"Tienda 1\", costo_envio_promedio(ventas)),\n",
        "    (\"Tienda 2\", costo_envio_promedio(ventas2)),\n",
        "    (\"Tienda 3\", costo_envio_promedio(ventas3)),\n",
        "    (\"Tienda 4\", costo_envio_promedio(ventas4))\n",
        "]\n",
        "\n",
        "# Mostrar resultados\n",
        "for tienda, costo_promedio in costo_promedios:\n",
        "    print(f\"{tienda} tiene un costo promedio de: {costo_promedio:.2f}\")"
      ],
      "metadata": {
        "id": "0tSdCie9ZQlt",
        "outputId": "0b366db1-7643-4f37-a77a-71f392d536f6",
        "colab": {
          "base_uri": "https://localhost:8080/"
        }
      },
      "execution_count": 11,
      "outputs": [
        {
          "output_type": "stream",
          "name": "stdout",
          "text": [
            "Tienda 1 tiene un costo promedio de: 26018.61\n",
            "Tienda 2 tiene un costo promedio de: 25216.24\n",
            "Tienda 3 tiene un costo promedio de: 24805.68\n",
            "Tienda 4 tiene un costo promedio de: 23459.46\n"
          ]
        }
      ]
    },
    {
      "cell_type": "markdown",
      "source": [
        "# 6. Visualización"
      ],
      "metadata": {
        "id": "a6oBh5wD6T7C"
      }
    },
    {
      "cell_type": "code",
      "source": [
        "import matplotlib.pyplot as plt\n",
        "\n",
        "\n",
        "# Resultados en visualizaciones que le ayuden a comprender mejor los patrones y los insights encontrados."
      ],
      "metadata": {
        "id": "lccToEQJ6NjW"
      },
      "execution_count": 12,
      "outputs": []
    },
    {
      "cell_type": "code",
      "source": [
        "ingresos = {\n",
        "             'Tienda 1': 1150880400.0,\n",
        "             'Tienda 2': 1116343500.0,\n",
        "             'Tienda 3': 1098019600.0,\n",
        "             'Tienda 4': 1038375700.0\n",
        "            }\n",
        "calificaciones = {\n",
        "             'Tienda 1': 3.98,\n",
        "             'Tienda 2': 4.04,\n",
        "             'Tienda 3': 4.05,\n",
        "             'Tienda 4': 4.00\n",
        "}\n",
        "costos_envio = {\n",
        "            'Tienda 1': 26018.61,\n",
        "            'Tienda 2': 25216.24,\n",
        "            'Tienda 3': 24805.68,\n",
        "            'Tienda 4': 23459.46\n",
        "}\n",
        ""
      ],
      "metadata": {
        "id": "CN2gQ7876YIS"
      },
      "execution_count": 13,
      "outputs": []
    },
    {
      "cell_type": "code",
      "source": [
        "# GRÁFICO 1: Ingresos por tienda (barras)\n",
        "plt.figure(figsize=(8, 5))\n",
        "plt.bar(ingresos.keys(), ingresos.values())\n",
        "plt.title('Ingreso total por tienda')\n",
        "plt.ylabel('Ingreso en USD')\n",
        "plt.xlabel('Tienda')\n",
        "plt.tight_layout()\n",
        "plt.show()\n",
        "\n",
        "# GRÁFICO 2: Valoración media por tienda (barras horizontales)\n",
        "plt.figure(figsize=(8, 5))\n",
        "plt.barh(list(calificaciones.keys()), list(calificaciones.values()), color=\"skyblue\")\n",
        "plt.title(\"Valoración media por tienda\")\n",
        "plt.xlabel(\"Calificación promedio\")\n",
        "plt.xlim(0, 5)  # rango de 0 a 5 estrellas\n",
        "\n",
        "# Etiquetas de valor a la derecha de cada barra\n",
        "for i, valor in enumerate(calificaciones.values()):\n",
        "    plt.text(valor + 0.05, i, f\"{valor:.2f}\", va=\"center\")\n",
        "\n",
        "plt.tight_layout()\n",
        "plt.show()\n",
        "\n",
        "# GRÁFICO 3: Costo de envío promedio por tienda (dispersión)\n",
        "plt.figure(figsize=(8, 5))\n",
        "\n",
        "# Convertir claves a índices\n",
        "tiendas = list(costos_envio.keys())\n",
        "valores = list(costos_envio.values())\n",
        "x_pos = list(range(len(tiendas)))\n",
        "\n",
        "plt.scatter(x_pos, valores, s=100, color='green')\n",
        "plt.title('Costo de envío promedio por tienda')\n",
        "plt.ylabel('Costo en USD')\n",
        "plt.xlabel('Tienda')\n",
        "plt.xticks(x_pos, tiendas)\n",
        "plt.tight_layout()\n",
        "plt.show()"
      ],
      "metadata": {
        "id": "iH_gZ3Zs7PiP",
        "outputId": "c722a381-069e-4930-ad47-15a0cedbcbf4",
        "colab": {
          "base_uri": "https://localhost:8080/",
          "height": 1000
        }
      },
      "execution_count": 18,
      "outputs": [
        {
          "output_type": "display_data",
          "data": {
            "text/plain": [
              "<Figure size 800x500 with 1 Axes>"
            ],
            "image/png": "[encoded data removed]"
          },
          "metadata": {}
        },
        {
          "output_type": "display_data",
          "data": {
            "text/plain": [
              "<Figure size 800x500 with 1 Axes>"
            ],
            "image/png": "[encoded data removed]"
          },
          "metadata": {}
        },
        {
          "output_type": "display_data",
          "data": {
            "text/plain": [
              "<Figure size 800x500 with 1 Axes>"
            ],
            "image/png": "[encoded data removed]"
          },
          "metadata": {}
        }
      ]
    },
    {
      "cell_type": "code",
      "source": [],
      "metadata": {
        "id": "975spB_d7UfZ"
      },
      "execution_count": null,
      "outputs": []
    },
    {
      "cell_type": "markdown",
      "source": [
        "# Informe Final – Evaluación de Tiendas Alura Store\n",
        "\n",
        "Este documento busca orientar al Sr. Juan sobre **qué tienda vender** para liberar capital e invertir en un nuevo proyecto. Se analizaron cuatro tiendas considerando cinco frentes clave:\n",
        "\n",
        "- **Ingresos totales anuales**\n",
        "- **Categorías más y menos vendidas**\n",
        "- **Calificaciones promedio de clientes**\n",
        "- **Productos con mayor y menor rotación**\n",
        "- **Costo promedio de envío**\n",
        "\n",
        "La información fue procesada en Python y comparada con visualizaciones, permitiendo un análisis objetivo del desempeño por tienda.\n",
        "\n",
        "---\n",
        "\n",
        "## 1) Ingresos totales por tienda\n",
        "\n",
        "La **Tienda 1** lidera la facturación con **1.150.880.400**, seguida de la Tienda 2 y la Tienda 3. La **Tienda 4** registra el ingreso más bajo con **1.038.375.700**.\n",
        "\n",
        "**Ranking por ingresos:**\n",
        "1. Tienda 1 — 1.150.880.400\n",
        "\n",
        "2. Tienda 2 — 1.116.343.500\n",
        "\n",
        "3. Tienda 3 — 1.098.019.600\n",
        "\n",
        "4. Tienda 4 — 1.038.375.700\n",
        "\n",
        "---\n",
        "\n",
        "## 2) Calificaciones promedio de clientes\n",
        "\n",
        "La satisfacción de clientes pone a la **Tienda 3** en primer lugar con **4.05**. La **Tienda 1** obtiene la valoración más baja con **3.98**.\n",
        "\n",
        "**Ranking por calificación:**\n",
        "\n",
        "1. Tienda 3 — 4.05\n",
        "2. Tienda 2 — 4.04\n",
        "3. Tienda 4 — 4.00\n",
        "4. Tienda 1 — 3.98\n",
        "\n",
        "---\n",
        "\n",
        "## 3) Costo promedio de envío (menor es mejor)\n",
        "\n",
        "El costo logístico favorece a la **Tienda 4** con **23.459**, mientras que la **Tienda 1** es la más costosa con **26.019**.\n",
        "\n",
        "**Ranking por costo de envío:**\n",
        "1. Tienda 4 — 23.459\n",
        "2. Tienda 3 — 24.806\n",
        "3. Tienda 2 — 25.216\n",
        "4. Tienda 1 — 26.019\n",
        "\n",
        "---\n",
        "\n",
        "## 4) Categorías de productos más vendidas\n",
        "\n",
        "A nivel general, **Muebles** encabeza ventas, seguida por **Electrónicos** y **Juguetes**.\n",
        "\n",
        "- **Tienda 3** sobresale con los mayores volúmenes en las dos categorías principales: *Muebles: 499 ventas*, *Electrónicos: 451 ventas*.\n",
        "- **Tienda 4**, a pesar de cerrar la lista en ingresos, mantiene volúmenes competitivos en estas categorías.\n",
        "\n",
        "---\n",
        "\n",
        "## 5) Productos con mayor y menor rotación\n",
        "\n",
        "**Tienda 1**\n",
        "- Más vendido: *Microondas* (60)\n",
        "- Menos vendido: *Celular ABXY* (33)\n",
        "\n",
        "**Tienda 2**\n",
        "- Más vendido: *Iniciando en programación* (65)\n",
        "- Menos vendido: *Juego de mesa* (32)\n",
        "\n",
        "**Tienda 3**\n",
        "- Más vendido: *Kit de bancas* (57)\n",
        "- Menos vendido: *Bloques de construcción* (35)\n",
        "\n",
        "**Tienda 4**\n",
        "- Más vendido: *Cama box* (62)\n",
        "- Menos vendido: *Guitarra eléctrica* (33)\n",
        "\n",
        "> Nota: La **Tienda 4** posee un producto “estrella” (Cama box), pero no compensa el menor rendimiento del resto del portafolio.\n",
        "\n",
        "---\n",
        "\n",
        "## Conclusión y recomendación\n",
        "\n",
        "Integrando resultados, **la Tienda 4** presenta el desempeño global más débil:\n",
        "- **Menor facturación anual**\n",
        "- **Calificación promedio aceptable (4.00), pero no sobresaliente**\n",
        "- **Ventaja en costos de envío** que no se traduce en mayores ventas\n",
        "\n",
        "**Recomendación:** El Sr. Juan debería **vender la Tienda 4**. Aun con un costo de envío competitivo, la tienda no muestra ventajas claras en satisfacción ni en diversificación que respalden un crecimiento sostenido frente a las demás.\n"
      ],
      "metadata": {
        "id": "PxrA0ZlM9fPQ"
      }
    },
    {
      "cell_type": "code",
      "source": [],
      "metadata": {
        "id": "Mr5kg8O59iNV"
      },
      "execution_count": null,
      "outputs": []
    }
  ]
}